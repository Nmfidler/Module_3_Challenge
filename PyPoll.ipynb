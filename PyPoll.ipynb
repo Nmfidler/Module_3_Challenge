{
 "cells": [
  {
   "cell_type": "code",
   "execution_count": 9,
   "id": "246ee71f-9414-42da-9862-19f1f08b2138",
   "metadata": {},
   "outputs": [
    {
     "name": "stdout",
     "output_type": "stream",
     "text": [
      "Total voters: 369711\n",
      "\n",
      "Votes by candidate:\n",
      "Charles Casper Stockham: 23.05% (85213 votes)\n",
      "Diana DeGette: 73.81% (272892 votes)\n",
      "Raymon Anthony Doane: 3.14% (11606 votes)\n",
      "\n",
      "Winner: Diana DeGette\n"
     ]
    }
   ],
   "source": [
    "import csv \n",
    "\n",
    "\n",
    "def count_rows_and_candidates(csv_file_path):\n",
    "    # Open the dataset file\n",
    "    with open('election_data.csv', 'r') as csvfile:\n",
    "        csv_reader = csv.reader(csvfile)\n",
    "        header = next(csv_reader)\n",
    "\n",
    "        # Initialize a set to store unique candidate names\n",
    "        unique_candidates = set()\n",
    "\n",
    "        # Initialize a dictionary to store the count of votes for each candidate\n",
    "        candidate_votes = {}\n",
    "\n",
    "        # Count the total number of rows\n",
    "        total_rows = 0\n",
    "\n",
    "        # Iterate through the rows and add candidate names to the set\n",
    "        for row in csv_reader:\n",
    "            total_rows += 1\n",
    "\n",
    "            candidate_name = row[2]  # Assuming candidate names are in the third column (adjust if needed)\n",
    "            unique_candidates.add(candidate_name)\n",
    "\n",
    "            # Count the votes for each candidate\n",
    "            candidate_votes.setdefault(candidate_name, 0)\n",
    "            candidate_votes[candidate_name] += 1\n",
    "\n",
    "    return total_rows, unique_candidates, candidate_votes\n",
    "\n",
    "def find_winner(votes_by_candidate):\n",
    "    # Find the candidate with the maximum votes\n",
    "    winner = max(votes_by_candidate, key=votes_by_candidate.get)\n",
    "    return winner\n",
    "\n",
    "# Replace the path with the actual path to your CSV file\n",
    "csv_file_path = 'election_data.csv'\n",
    "total_rows, candidates, votes_by_candidate = count_rows_and_candidates(csv_file_path)\n",
    "\n",
    "print(f'Total voters: {total_rows}')\n",
    "\n",
    "print('\\nVotes by candidate:')\n",
    "for candidate, votes in votes_by_candidate.items():\n",
    "    percentage = (votes / total_rows) * 100\n",
    "    print(f'{candidate}: {percentage:.2f}% ({votes} votes)')\n",
    "\n",
    "winner = find_winner(votes_by_candidate)\n",
    "print(f'\\nWinner: {winner}')\n"
   ]
  },
  {
   "cell_type": "code",
   "execution_count": null,
   "id": "8f7183e4-d1fb-4636-9550-dae807608e41",
   "metadata": {},
   "outputs": [],
   "source": [
    "\n"
   ]
  }
 ],
 "metadata": {
  "kernelspec": {
   "display_name": "Python 3 (ipykernel)",
   "language": "python",
   "name": "python3"
  },
  "language_info": {
   "codemirror_mode": {
    "name": "ipython",
    "version": 3
   },
   "file_extension": ".py",
   "mimetype": "text/x-python",
   "name": "python",
   "nbconvert_exporter": "python",
   "pygments_lexer": "ipython3",
   "version": "3.10.13"
  }
 },
 "nbformat": 4,
 "nbformat_minor": 5
}
