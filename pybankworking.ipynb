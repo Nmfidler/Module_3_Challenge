{
 "cells": [
  {
   "cell_type": "code",
   "execution_count": 1,
   "id": "ccb51f93-401b-4052-9595-add5a44373a6",
   "metadata": {},
   "outputs": [
    {
     "name": "stdout",
     "output_type": "stream",
     "text": [
      "Total number of months: 86\n",
      "Total Profit/Loss: 22564198\n",
      "Average Change: $ $4,500.46\n",
      "Greatest Increase in Profits: Aug-16 ($ 1862002 )\n",
      "Greatest Decrease in Profits: Feb-14 ($ -1825558 )\n"
     ]
    }
   ],
   "source": [
    "import csv\n",
    "from datetime import datetime\n",
    "\n",
    "# Open the dataset file\n",
    "with open('Resources/budget_data.csv', 'r') as file:\n",
    "    csv_reader = csv.reader(file)\n",
    "    header = next(csv_reader)\n",
    "    \n",
    "    total_months = 0\n",
    "    total_profit_loss = 0\n",
    "    previous_profit_loss = 0\n",
    "    monthly_changes = []\n",
    "    greatest_increase = 0\n",
    "    greatest_increase_date = \"\"\n",
    "    greatest_decrease = 0\n",
    "    greatest_decrease_date = \"\"\n",
    "    \n",
    "    # create dataset to store the months\n",
    "    for row in csv_reader:\n",
    "        total_months += 1\n",
    "        \n",
    "        # iterate over each row in the dataset\n",
    "        date_string = row[0]\n",
    "        profit_loss = int(row[1])\n",
    "        \n",
    "        # convert the date\n",
    "        date = datetime.strptime(date_string, '%b-%y')\n",
    "        \n",
    "        total_profit_loss += profit_loss\n",
    "        \n",
    "        # calculate the change in profits/losses\n",
    "        monthly_change = profit_loss - previous_profit_loss\n",
    "        monthly_changes.append(monthly_change)\n",
    "        \n",
    "        # check if current monthly change is the greatest increase\n",
    "        if monthly_change > greatest_increase:\n",
    "            greatest_increase = monthly_change\n",
    "            greatest_increase_date = date_string\n",
    "        \n",
    "        # check if current monthly change is the greatest decrease\n",
    "        if monthly_change < greatest_decrease:\n",
    "            greatest_decrease = monthly_change\n",
    "            greatest_decrease_date = date_string\n",
    "        \n",
    "        # update previous profit loss\n",
    "        previous_profit_loss = profit_loss\n",
    "    \n",
    "    average_change = sum(monthly_changes) / (total_months-1)\n",
    "    average_change_formatted = \"${:,.2f}\".format(average_change)\n",
    "    \n",
    "    print(\"Total number of months:\", total_months)\n",
    "    print(\"Total Profit/Loss:\", total_profit_loss)\n",
    "    print(\"Average Change:\", \"$\",average_change_formatted,)\n",
    "    print(\"Greatest Increase in Profits:\", greatest_increase_date, \"($\", greatest_increase, \")\")\n",
    "    print(\"Greatest Decrease in Profits:\", greatest_decrease_date, \"($\", greatest_decrease, \")\")\n",
    "\n",
    "\n",
    "\n"
   ]
  },
  {
   "cell_type": "code",
   "execution_count": null,
   "id": "af739a0d-5fc8-4c73-b22e-a26dbb8c3f5e",
   "metadata": {},
   "outputs": [],
   "source": []
  }
 ],
 "metadata": {
  "kernelspec": {
   "display_name": "Python 3 (ipykernel)",
   "language": "python",
   "name": "python3"
  },
  "language_info": {
   "codemirror_mode": {
    "name": "ipython",
    "version": 3
   },
   "file_extension": ".py",
   "mimetype": "text/x-python",
   "name": "python",
   "nbconvert_exporter": "python",
   "pygments_lexer": "ipython3",
   "version": "3.10.13"
  }
 },
 "nbformat": 4,
 "nbformat_minor": 5
}
